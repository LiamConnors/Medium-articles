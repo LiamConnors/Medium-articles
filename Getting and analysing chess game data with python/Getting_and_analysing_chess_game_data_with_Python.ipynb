{
 "cells": [
  {
   "cell_type": "code",
   "execution_count": 1,
   "metadata": {},
   "outputs": [],
   "source": [
    "import requests\n",
    "import json\n",
    "import chess.pgn\n",
    "import io\n",
    "import pandas as pd\n",
    "import math\n",
    "import numpy as np\n",
    "import time\n",
    "\n",
    "pd.set_option('display.max_rows', 50)"
   ]
  },
  {
   "cell_type": "code",
   "execution_count": 2,
   "metadata": {},
   "outputs": [],
   "source": [
    "def get_data_by_month(username, year, month):\n",
    "\n",
    "    url = f\"https://api.chess.com/pub/player/{username}/games/{year}/{month}\"\n",
    "\n",
    "    data = requests.get(url)\n",
    "    if data.status_code != 200:\n",
    "        raise Exception(\"The following response was returned: \" + str(data.status_code))\n",
    "    else:\n",
    "        data = json.loads(data.text)\n",
    "        games = data[\"games\"]\n",
    "        \n",
    "    all_games=[]\n",
    "    for game in games:\n",
    "        pgn = (game['pgn'])\n",
    "        pgn = io.StringIO(pgn)\n",
    "        game = chess.pgn.read_game(pgn)\n",
    "        all_games.append(game)\n",
    "                \n",
    "    game_list = []\n",
    "    for g in all_games:\n",
    "        moves = (g.mainline_moves())\n",
    "        moves = [str(x) for x in moves]\n",
    "        \n",
    "        white = (g.headers['White'])\n",
    "        if white.lower() == username.lower():\n",
    "            playing_as_white = 1\n",
    "        else:\n",
    "            playing_as_white = 0\n",
    "        \n",
    "        if len(moves)>1:\n",
    "            move_made = (moves[1])\n",
    "        else:\n",
    "            move_made = \"\"\n",
    "        \n",
    "        game = {\"date\": (g.headers[\"Date\"]), \"player_white\": white, \"player_black\": (g.headers['Black']), \"playing_as_white\" : playing_as_white, \"result\": (g.headers['Result']), \"termination\": (g.headers['Termination']), \"moves\": moves, \"no_of_moves\": (math.ceil(len(moves)/2)), \"first_move\": (moves[0]), \"response\": move_made}\n",
    "    \n",
    "        \n",
    "        game_list.append(game)\n",
    "    game_list = pd.DataFrame(game_list)\n",
    "    return game_list\n"
   ]
  },
  {
   "cell_type": "code",
   "execution_count": 3,
   "metadata": {},
   "outputs": [],
   "source": [
    "this_year = [(\"2021\", \"01\"),  (\"2021\", \"02\"), (\"2021\", \"03\"), (\"2021\", \"04\"), (\"2021\", \"05\")]"
   ]
  },
  {
   "cell_type": "code",
   "execution_count": 4,
   "metadata": {},
   "outputs": [
    {
     "name": "stdout",
     "output_type": "stream",
     "text": [
      "Sleeping\n",
      "Sleeping\n",
      "Sleeping\n",
      "Sleeping\n",
      "Sleeping\n"
     ]
    }
   ],
   "source": [
    "all_months = []\n",
    "for date in this_year:\n",
    "    year = date[0]\n",
    "    month = date[1]\n",
    "    \n",
    "    df = get_data_by_month(\"\", year, month)\n",
    "    all_months.append(df)\n",
    "    time.sleep(10)\n",
    "    print(\"Sleeping\")"
   ]
  },
  {
   "cell_type": "code",
   "execution_count": 5,
   "metadata": {},
   "outputs": [],
   "source": [
    "def combine_months(dfs):\n",
    "    df = pd.concat(dfs, ignore_index=True)\n",
    "    return df"
   ]
  },
  {
   "cell_type": "code",
   "execution_count": 6,
   "metadata": {},
   "outputs": [],
   "source": [
    "all_months = combine_months(all_months)"
   ]
  },
  {
   "cell_type": "code",
   "execution_count": 8,
   "metadata": {},
   "outputs": [],
   "source": [
    "def drop_not_required_columns(df):\n",
    "    # For now I am not interested in these columns\n",
    "    df = df.drop([\"player_white\", \"player_black\", \"moves\", \"termination\"], axis =1)\n",
    "    return df"
   ]
  },
  {
   "cell_type": "code",
   "execution_count": 9,
   "metadata": {},
   "outputs": [],
   "source": [
    "all_months = drop_not_required_columns(all_months)"
   ]
  },
  {
   "cell_type": "code",
   "execution_count": 11,
   "metadata": {},
   "outputs": [],
   "source": [
    " def create_wins_column(df):\n",
    "    \n",
    "    conditions = \\\n",
    "    [(df[\"playing_as_white\"] == 1) & (df[\"result\"] == \"1-0\"), \n",
    "     (df[\"playing_as_white\"] == 1) & (df[\"result\"] == \"0-1\"), \n",
    "     (df[\"playing_as_white\"] == 0) & (df[\"result\"] == \"1-0\"), \n",
    "     (df[\"playing_as_white\"] == 0) & (df[\"result\"] == \"0-1\"), \n",
    "     (df[\"playing_as_white\"] == 1) & (df[\"result\"] == \"1/2-1/2\"),\n",
    "     (df[\"playing_as_white\"] == 0) & (df[\"result\"] == \"1/2-1/2\")]\n",
    "    \n",
    "    values = [\"Win\", \"Loss\", \"Loss\", \"Win\", \"Draw\", \"Draw\"]\n",
    "                \n",
    "    df['my_result'] = np.select(conditions, values)    \n",
    "\n",
    "    return df    "
   ]
  },
  {
   "cell_type": "code",
   "execution_count": 12,
   "metadata": {},
   "outputs": [],
   "source": [
    "all_months = create_wins_column(all_months)"
   ]
  },
  {
   "cell_type": "code",
   "execution_count": 14,
   "metadata": {},
   "outputs": [],
   "source": [
    "def column_by_month(df):\n",
    "    df[\"date\"] = pd.to_datetime(df[\"date\"])\n",
    "    df[\"month\"] = pd.DatetimeIndex(df[\"date\"]).month    \n",
    "    return df"
   ]
  },
  {
   "cell_type": "code",
   "execution_count": 15,
   "metadata": {},
   "outputs": [],
   "source": [
    "all_months = column_by_month(all_months)"
   ]
  },
  {
   "cell_type": "code",
   "execution_count": 16,
   "metadata": {},
   "outputs": [
    {
     "name": "stdout",
     "output_type": "stream",
     "text": [
      "<class 'pandas.core.frame.DataFrame'>\n",
      "RangeIndex: 430 entries, 0 to 429\n",
      "Data columns (total 8 columns):\n",
      " #   Column            Non-Null Count  Dtype         \n",
      "---  ------            --------------  -----         \n",
      " 0   date              430 non-null    datetime64[ns]\n",
      " 1   playing_as_white  430 non-null    int64         \n",
      " 2   result            430 non-null    object        \n",
      " 3   no_of_moves       430 non-null    int64         \n",
      " 4   first_move        430 non-null    object        \n",
      " 5   response          430 non-null    object        \n",
      " 6   my_result         430 non-null    object        \n",
      " 7   month             430 non-null    int64         \n",
      "dtypes: datetime64[ns](1), int64(3), object(4)\n",
      "memory usage: 27.0+ KB\n"
     ]
    }
   ],
   "source": [
    "all_months.info()"
   ]
  },
  {
   "cell_type": "code",
   "execution_count": 17,
   "metadata": {},
   "outputs": [
    {
     "data": {
      "text/plain": [
       "first_move  my_result\n",
       "c2c3        Loss           1\n",
       "            Win            1\n",
       "d2d4        Draw           8\n",
       "            Loss          91\n",
       "            Win          113\n",
       "e2e4        Loss           2\n",
       "            Win            2\n",
       "Name: my_result, dtype: int64"
      ]
     },
     "execution_count": 17,
     "metadata": {},
     "output_type": "execute_result"
    }
   ],
   "source": [
    "# see my most common opening\n",
    "all_months[all_months[\"playing_as_white\"]==1].groupby([\"first_move\", \"my_result\"])[\"my_result\"].count()"
   ]
  },
  {
   "cell_type": "code",
   "execution_count": 18,
   "metadata": {},
   "outputs": [],
   "source": [
    "#those of my opponents"
   ]
  },
  {
   "cell_type": "code",
   "execution_count": 19,
   "metadata": {},
   "outputs": [
    {
     "data": {
      "text/plain": [
       "first_move  my_result\n",
       "a2a4        Loss          1\n",
       "b1c3        Win           2\n",
       "c2c4        Loss          3\n",
       "d2d3        Loss          1\n",
       "d2d4        Draw          1\n",
       "            Loss         29\n",
       "            Win          21\n",
       "e2e3        Loss          1\n",
       "            Win           2\n",
       "e2e4        Draw          5\n",
       "            Loss         65\n",
       "            Win          69\n",
       "f2f3        Draw          1\n",
       "f2f4        Win           1\n",
       "g1f3        Loss          4\n",
       "            Win           1\n",
       "g2g3        Loss          1\n",
       "            Win           1\n",
       "h2h4        Win           3\n",
       "Name: my_result, dtype: int64"
      ]
     },
     "execution_count": 19,
     "metadata": {},
     "output_type": "execute_result"
    }
   ],
   "source": [
    "pd.set_option('display.max_rows', None)\n",
    "all_months[all_months[\"playing_as_white\"]==0].groupby([\"first_move\", \"my_result\"])[\"my_result\"].count()"
   ]
  },
  {
   "cell_type": "code",
   "execution_count": 20,
   "metadata": {},
   "outputs": [
    {
     "data": {
      "text/plain": [
       "first_move  response  my_result\n",
       "d2d4        a7a5      Loss          2\n",
       "            b8c6      Loss          3\n",
       "                      Win           1\n",
       "            c7c6      Loss          1\n",
       "                      Win           1\n",
       "            d7d5      Draw          1\n",
       "                      Loss          7\n",
       "                      Win          10\n",
       "            e7e5      Loss          4\n",
       "                      Win           5\n",
       "            e7e6      Win           1\n",
       "            g7g6      Loss          8\n",
       "                      Win           2\n",
       "            g8f6      Loss          4\n",
       "            h7h5      Win           1\n",
       "e2e4                  Loss          1\n",
       "            a7a5      Loss          4\n",
       "                      Win           1\n",
       "            b8c6      Loss          1\n",
       "            c7c5      Loss          1\n",
       "                      Win           1\n",
       "            c7c6      Loss          1\n",
       "                      Win           1\n",
       "            d7d5      Draw          1\n",
       "                      Win           1\n",
       "            d7d6      Loss          2\n",
       "            e7e5      Draw          3\n",
       "                      Loss         46\n",
       "                      Win          56\n",
       "            f7f5      Win           2\n",
       "            f7f6      Loss          1\n",
       "            g7g5      Loss          1\n",
       "            g7g6      Draw          1\n",
       "                      Loss          5\n",
       "                      Win           5\n",
       "            g8f6      Loss          1\n",
       "                      Win           2\n",
       "            h7h5      Loss          1\n",
       "Name: my_result, dtype: int64"
      ]
     },
     "execution_count": 20,
     "metadata": {},
     "output_type": "execute_result"
    }
   ],
   "source": [
    "#zooming in on these openings and how I respond\n",
    "all_months[(all_months[\"playing_as_white\"]==0) & ((all_months[\"first_move\"]==\"e2e4\") | (all_months[\"first_move\"]==\"d2d4\"))].groupby([\"first_move\", \"response\", \"my_result\"])[\"my_result\"].count()"
   ]
  }
 ],
 "metadata": {
  "kernelspec": {
   "display_name": "Python 3",
   "language": "python",
   "name": "python3"
  },
  "language_info": {
   "codemirror_mode": {
    "name": "ipython",
    "version": 3
   },
   "file_extension": ".py",
   "mimetype": "text/x-python",
   "name": "python",
   "nbconvert_exporter": "python",
   "pygments_lexer": "ipython3",
   "version": "3.8.3"
  }
 },
 "nbformat": 4,
 "nbformat_minor": 4
}
