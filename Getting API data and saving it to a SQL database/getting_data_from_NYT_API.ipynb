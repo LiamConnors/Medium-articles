{
 "cells": [
  {
   "cell_type": "code",
   "execution_count": null,
   "metadata": {},
   "outputs": [],
   "source": [
    "import requests\n",
    "import sqlite3\n",
    "import time"
   ]
  },
  {
   "cell_type": "code",
   "execution_count": null,
   "metadata": {},
   "outputs": [],
   "source": [
    "#Exploring the data for one month\n",
    "data_2020_01 = requests.get(\"https://api.nytimes.com/svc/archive/v1/2020/1.json?api-key=[YOUR API KEY]\")\n",
    "data_2020_01_json = data_2020_01.json()\n",
    "data_2020_01_articles = data_2020_01_json['response']['docs']"
   ]
  },
  {
   "cell_type": "code",
   "execution_count": null,
   "metadata": {},
   "outputs": [],
   "source": [
    "#Function to generate urls for each month in 2020\n",
    "def generate_urls():\n",
    "    month_range = range(1,13)\n",
    "    api_key = \"[YOUR API KEY]\"\n",
    "    urls = []\n",
    "    for month in month_range:\n",
    "        url = (f\"https://api.nytimes.com/svc/archive/v1/2020/{month}.json?api-key={api_key}\")\n",
    "        urls.append(url)\n",
    "    return urls"
   ]
  },
  {
   "cell_type": "code",
   "execution_count": null,
   "metadata": {},
   "outputs": [],
   "source": [
    "#Create and connect to DB\n",
    "connection = sqlite3.connect('nytimes_articles3.db')\n",
    "cur = connection.cursor()\n",
    "#Create the table\n",
    "cur.execute('''CREATE TABLE articles(_id TEXT, lead_pargraph TEXT,  web_url TEXT, main_headline TEXT, pub_date TEXT, news_desk TEXT, section_name TEXT, type_of_material TEXT, word_count INT)''')\n"
   ]
  },
  {
   "cell_type": "code",
   "execution_count": null,
   "metadata": {},
   "outputs": [],
   "source": [
    "#Generate URLs for each month in 2020\n",
    "month_urls = generate_urls()\n",
    "\n",
    "#Going to each month URL, getting the data and storing it in the database\n",
    "#Includes sleep as suggested by the api docs\n",
    "\n",
    "for month in month_urls:\n",
    "    data = requests.get(month)\n",
    "    data_json = data.json()\n",
    "    data_articles = data_json['response']['docs']   \n",
    "    values_for_db = []\n",
    "\n",
    "    for article in data_articles:\n",
    "        row = (article['_id'], article['lead_paragraph'], article['web_url'], article['headline']['main'], article['pub_date'], article['news_desk'], article['section_name'], article['type_of_material'], article['word_count'])\n",
    "        values_for_db.append(row)\n",
    "    \n",
    "    cur.executemany('INSERT INTO articles VALUES (?,?,?,?,?,?,?,?,?)', values_for_db)\n",
    "    time.sleep(6)\n",
    "    connection.commit()\n",
    "\n",
    "connection.close()"
   ]
  },
  {
   "cell_type": "code",
   "execution_count": null,
   "metadata": {},
   "outputs": [],
   "source": []
  },
  {
   "cell_type": "code",
   "execution_count": null,
   "metadata": {},
   "outputs": [],
   "source": []
  }
 ],
 "metadata": {
  "kernelspec": {
   "display_name": "Python 3",
   "language": "python",
   "name": "python3"
  },
  "language_info": {
   "codemirror_mode": {
    "name": "ipython",
    "version": 3
   },
   "file_extension": ".py",
   "mimetype": "text/x-python",
   "name": "python",
   "nbconvert_exporter": "python",
   "pygments_lexer": "ipython3",
   "version": "3.8.3"
  }
 },
 "nbformat": 4,
 "nbformat_minor": 4
}
